{
 "cells": [
  {
   "cell_type": "markdown",
   "metadata": {},
   "source": [
    "# Saving and loading observables to/from disk"
   ]
  },
  {
   "cell_type": "code",
   "execution_count": 1,
   "metadata": {},
   "outputs": [],
   "source": [
    "import numpy\n",
    "import pyobs\n",
    "\n",
    "%matplotlib widget"
   ]
  },
  {
   "cell_type": "markdown",
   "metadata": {},
   "source": [
    "First let's create an obseervable"
   ]
  },
  {
   "cell_type": "code",
   "execution_count": 2,
   "metadata": {},
   "outputs": [
    {
     "data": {
      "text/plain": [
       "0.526(63)"
      ]
     },
     "execution_count": 2,
     "metadata": {},
     "output_type": "execute_result"
    }
   ],
   "source": [
    "N=5000 # number of configs\n",
    "mu = 0.5 # central values\n",
    "cov = (mu*0.5)**2 # error^2\n",
    "\n",
    "# autocorrelation time\n",
    "tau=4.0\n",
    "\n",
    "data = pyobs.random.acrand(mu,cov,tau,N)\n",
    "\n",
    "yobs = pyobs.observable()\n",
    "yobs.create('ensA',data)\n",
    "yobs"
   ]
  },
  {
   "cell_type": "markdown",
   "metadata": {},
   "source": [
    "and let's add a systematic error (to test both the `data` and `cdata` subclasses)"
   ]
  },
  {
   "cell_type": "code",
   "execution_count": 3,
   "metadata": {},
   "outputs": [
    {
     "data": {
      "application/vnd.jupyter.widget-view+json": {
       "model_id": "91c032af29f94b6ab1cfca3f4e9bf2c7",
       "version_major": 2,
       "version_minor": 0
      },
      "text/plain": [
       "Canvas(toolbar=Toolbar(toolitems=[('Home', 'Reset original view', 'home', 'home'), ('Back', 'Back to previous …"
      ]
     },
     "metadata": {},
     "output_type": "display_data"
    },
    {
     "data": {
      "application/vnd.jupyter.widget-view+json": {
       "model_id": "960287d78e5242b58144cbb1ab5c8cfa",
       "version_major": 2,
       "version_minor": 0
      },
      "text/plain": [
       "Canvas(toolbar=Toolbar(toolitems=[('Home', 'Reset original view', 'home', 'home'), ('Back', 'Back to previous …"
      ]
     },
     "metadata": {},
     "output_type": "display_data"
    },
    {
     "data": {
      "text/plain": [
       "[array([0.52596515]), array([0.07425538])]"
      ]
     },
     "execution_count": 3,
     "metadata": {},
     "output_type": "execute_result"
    }
   ],
   "source": [
    "yobs.add_syst_err('syst.error',[0.04])\n",
    "yobs.error(plot=True)"
   ]
  },
  {
   "cell_type": "markdown",
   "metadata": {},
   "source": [
    "If we use the [bison](https://mbruno46.github.io/bison/) file format we can save any python type to disk, including numpy arrays and observables. For simplicity we store all the relavant data in a dictionary."
   ]
  },
  {
   "cell_type": "code",
   "execution_count": 4,
   "metadata": {},
   "outputs": [
    {
     "name": "stdout",
     "output_type": "stream",
     "text": [
      "[Bison] : Written 0.0406952 MB at 62.9149 MB/s\n"
     ]
    }
   ],
   "source": [
    "pyobs.save('./test-obs.pyobs',{\n",
    "    'yobs': yobs, 'metadata': 'some text describing the observable',\n",
    "    'parameter1': 0.345, 'array': numpy.array([0,4,5,7],dtype=numpy.int32)\n",
    "});"
   ]
  },
  {
   "cell_type": "markdown",
   "metadata": {},
   "source": [
    "We check that the file has been created"
   ]
  },
  {
   "cell_type": "code",
   "execution_count": 5,
   "metadata": {},
   "outputs": [
    {
     "name": "stdout",
     "output_type": "stream",
     "text": [
      "-rw-r--r--  1 mbruno  staff  42672 May  5 00:46 test-obs.pyobs\n"
     ]
    }
   ],
   "source": [
    "%ls -al test-obs.pyobs"
   ]
  },
  {
   "cell_type": "markdown",
   "metadata": {},
   "source": [
    "We reload the file. As expected the returned object is a dictionary. Note the type of the numpy array is also preserved."
   ]
  },
  {
   "cell_type": "code",
   "execution_count": 6,
   "metadata": {},
   "outputs": [
    {
     "name": "stdout",
     "output_type": "stream",
     "text": [
      "[Bison] : Reading file ./test-obs.pyobs\n",
      "[Bison] : File created by mbruno at macthxbruno.local on Wed May  5 00:46:07 2021\n",
      "[Bison] : Read 0.0406952 MB at 5.8791 MB/s\n"
     ]
    },
    {
     "data": {
      "text/plain": [
       "{'yobs': 0.526(74),\n",
       " 'metadata': 'some text describing the observable',\n",
       " 'parameter1': 0.345,\n",
       " 'array': array([0, 4, 5, 7], dtype=int32)}"
      ]
     },
     "execution_count": 6,
     "metadata": {},
     "output_type": "execute_result"
    }
   ],
   "source": [
    "pyobs.load('./test-obs.pyobs')"
   ]
  },
  {
   "cell_type": "code",
   "execution_count": 7,
   "metadata": {},
   "outputs": [],
   "source": [
    "%rm test-obs.pyobs"
   ]
  }
 ],
 "metadata": {
  "kernelspec": {
   "display_name": "Python 3",
   "language": "python",
   "name": "python3"
  },
  "language_info": {
   "codemirror_mode": {
    "name": "ipython",
    "version": 3
   },
   "file_extension": ".py",
   "mimetype": "text/x-python",
   "name": "python",
   "nbconvert_exporter": "python",
   "pygments_lexer": "ipython3",
   "version": "3.7.7"
  }
 },
 "nbformat": 4,
 "nbformat_minor": 4
}
