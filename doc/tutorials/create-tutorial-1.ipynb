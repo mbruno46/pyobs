{
 "cells": [
  {
   "cell_type": "markdown",
   "metadata": {},
   "source": [
    "# Creating observables"
   ]
  },
  {
   "cell_type": "code",
   "execution_count": 1,
   "metadata": {},
   "outputs": [],
   "source": [
    "import pyobs\n",
    "import numpy\n",
    "\n",
    "import matplotlib.pyplot as plt\n",
    "%matplotlib widget"
   ]
  },
  {
   "cell_type": "markdown",
   "metadata": {},
   "source": [
    "First we generate synthetic autocorrelated data, using the `acrand` module"
   ]
  },
  {
   "cell_type": "code",
   "execution_count": 2,
   "metadata": {},
   "outputs": [],
   "source": [
    "N=5000 # number of configs\n",
    "mu = 0.5 # central values\n",
    "cov = (mu*0.5)**2 # error^2\n",
    "\n",
    "# autocorrelation time\n",
    "tau=4.0\n",
    "\n",
    "data = pyobs.random.acrand(mu,cov,tau,N)"
   ]
  },
  {
   "cell_type": "markdown",
   "metadata": {},
   "source": [
    "Then we create a new observable that we can inspect with the `peek` function."
   ]
  },
  {
   "cell_type": "code",
   "execution_count": 3,
   "metadata": {},
   "outputs": [
    {
     "name": "stdout",
     "output_type": "stream",
     "text": [
      "Observable with shape = (1,)\n",
      " - description: Observable A\n",
      " - size: 218 KB\n",
      " - mean: [0.50958099]\n",
      " - Ensemble EnsA\n",
      "    - Replica 0 with ncnfg 5000\n",
      "         temporary additional memory required 0.076 MB\n",
      "\n"
     ]
    }
   ],
   "source": [
    "obsA = pyobs.observable(description='Observable A')\n",
    "obsA.create('EnsA',data)\n",
    "obsA.peek()"
   ]
  },
  {
   "cell_type": "markdown",
   "metadata": {},
   "source": [
    "The first goal is to compute the error and check the autocorrelations. They should match $\\tau=4$."
   ]
  },
  {
   "cell_type": "code",
   "execution_count": 4,
   "metadata": {},
   "outputs": [
    {
     "name": "stdout",
     "output_type": "stream",
     "text": [
      "Help on function tauint in module pyobs.core.ndobs:\n",
      "\n",
      "tauint(self)\n",
      "    Estimates the integrated autocorrelation time and its error for every\n",
      "    ensemble, with the automatic windowing procedure.\n",
      "    \n",
      "    Notes:\n",
      "       To be added in future versions: support for arbitrary values of Stau\n",
      "\n"
     ]
    },
    {
     "data": {
      "text/plain": [
       "{'EnsA': [array([5.65559904]), array([0.91892608])]}"
      ]
     },
     "execution_count": 4,
     "metadata": {},
     "output_type": "execute_result"
    }
   ],
   "source": [
    "help(pyobs.observable.tauint)\n",
    "obsA.tauint() # returns a dictionary with tauint ensemble by ensemble"
   ]
  },
  {
   "cell_type": "markdown",
   "metadata": {},
   "source": [
    "Below we print the error and plot it as a function of the summation window. The optimal value is chosen following U. Wolff's algorithm."
   ]
  },
  {
   "cell_type": "code",
   "execution_count": 5,
   "metadata": {},
   "outputs": [
    {
     "name": "stdout",
     "output_type": "stream",
     "text": [
      "0.510(76)\n",
      "\n"
     ]
    },
    {
     "data": {
      "application/vnd.jupyter.widget-view+json": {
       "model_id": "dbee47d90cfb41d6a8984ca12b846314",
       "version_major": 2,
       "version_minor": 0
      },
      "text/plain": [
       "Canvas(toolbar=Toolbar(toolitems=[('Home', 'Reset original view', 'home', 'home'), ('Back', 'Back to previous …"
      ]
     },
     "metadata": {},
     "output_type": "display_data"
    }
   ],
   "source": [
    "print(obsA) # this is equivalent to obsA.error()\n",
    "[a,da] = obsA.error(plot=True) # note that a, da are numpy arrays"
   ]
  },
  {
   "cell_type": "markdown",
   "metadata": {},
   "source": [
    "## A second observable\n",
    "\n",
    "We generate a second observable that we imagine from a different ensemble. "
   ]
  },
  {
   "cell_type": "code",
   "execution_count": 6,
   "metadata": {},
   "outputs": [
    {
     "data": {
      "application/vnd.jupyter.widget-view+json": {
       "model_id": "dcc382dd2a484052a389f6494eac7bf7",
       "version_major": 2,
       "version_minor": 0
      },
      "text/plain": [
       "Canvas(toolbar=Toolbar(toolitems=[('Home', 'Reset original view', 'home', 'home'), ('Back', 'Back to previous …"
      ]
     },
     "metadata": {},
     "output_type": "display_data"
    }
   ],
   "source": [
    "N=1000 # number of configs\n",
    "mu = -2.5 # central values\n",
    "cov = (mu*0.2)**2 # error^2\n",
    "\n",
    "# autocorrelation time\n",
    "tau=2.0\n",
    "\n",
    "data = pyobs.random.acrand(mu,cov,tau,N)\n",
    "\n",
    "obsB = pyobs.observable(description='Observable B')\n",
    "obsB.create('EnsB',data)\n",
    "obsB.error(plot=True);"
   ]
  },
  {
   "cell_type": "markdown",
   "metadata": {},
   "source": [
    "When we perform an operation that combines the two observables, the fluctuations of both are properly propagated in the final result. When we use the `plot=True` argument, the contributions of the various ensembles to `obsC` are automatically plotted."
   ]
  },
  {
   "cell_type": "code",
   "execution_count": 7,
   "metadata": {},
   "outputs": [
    {
     "data": {
      "application/vnd.jupyter.widget-view+json": {
       "model_id": "0ade2bc109044c3cb84276616eca88bf",
       "version_major": 2,
       "version_minor": 0
      },
      "text/plain": [
       "Canvas(toolbar=Toolbar(toolitems=[('Home', 'Reset original view', 'home', 'home'), ('Back', 'Back to previous …"
      ]
     },
     "metadata": {},
     "output_type": "display_data"
    },
    {
     "data": {
      "application/vnd.jupyter.widget-view+json": {
       "model_id": "247c40adfafa495ca85e573e7960ed51",
       "version_major": 2,
       "version_minor": 0
      },
      "text/plain": [
       "Canvas(toolbar=Toolbar(toolitems=[('Home', 'Reset original view', 'home', 'home'), ('Back', 'Back to previous …"
      ]
     },
     "metadata": {},
     "output_type": "display_data"
    },
    {
     "data": {
      "application/vnd.jupyter.widget-view+json": {
       "model_id": "a0a2889ff7854c4db44918857341c2ff",
       "version_major": 2,
       "version_minor": 0
      },
      "text/plain": [
       "Canvas(toolbar=Toolbar(toolitems=[('Home', 'Reset original view', 'home', 'home'), ('Back', 'Back to previous …"
      ]
     },
     "metadata": {},
     "output_type": "display_data"
    }
   ],
   "source": [
    "obsC = obsA  + 1./obsB\n",
    "obsC.error(plot=True);"
   ]
  }
 ],
 "metadata": {
  "kernelspec": {
   "display_name": "Python 3",
   "language": "python",
   "name": "python3"
  },
  "language_info": {
   "codemirror_mode": {
    "name": "ipython",
    "version": 3
   },
   "file_extension": ".py",
   "mimetype": "text/x-python",
   "name": "python",
   "nbconvert_exporter": "python",
   "pygments_lexer": "ipython3",
   "version": "3.7.7"
  }
 },
 "nbformat": 4,
 "nbformat_minor": 4
}
