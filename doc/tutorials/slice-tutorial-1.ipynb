{
 "cells": [
  {
   "cell_type": "markdown",
   "metadata": {},
   "source": [
    "# Slicing tensors in pyobs"
   ]
  },
  {
   "cell_type": "code",
   "execution_count": 1,
   "metadata": {},
   "outputs": [],
   "source": [
    "import pyobs\n",
    "import numpy"
   ]
  },
  {
   "cell_type": "code",
   "execution_count": 2,
   "metadata": {},
   "outputs": [],
   "source": [
    "# generate autocorrelated data\n",
    "N=500 # number of configs\n",
    "\n",
    "# central values\n",
    "mu=[0.5, 1.2, -3.4, 60.2, -10.1, 5.01]\n",
    "\n",
    "# diagonal cov matrix\n",
    "cov=[(mu[i]*0.2)**2 for i in range(len(mu))]\n",
    "\n",
    "# autocorrelation time\n",
    "tau=4.0\n",
    "\n",
    "data = pyobs.random.acrandn(mu,cov,tau,N)\n",
    "data = numpy.reshape(data,numpy.size(data),)\n",
    "\n",
    "yobs = pyobs.observable()\n",
    "yobs.create('ensA',data,shape=(3,2))"
   ]
  },
  {
   "cell_type": "markdown",
   "metadata": {},
   "source": [
    "In jupyter notebooks we can also print an observable in a pretty format by typing it at the end of a cell."
   ]
  },
  {
   "cell_type": "code",
   "execution_count": 3,
   "metadata": {},
   "outputs": [
    {
     "data": {
      "text/plain": [
       "0.491(13)\t1.163(48)\n",
       "-3.387(73)\t58.8(1.2)\n",
       "-10.05(30)\t5.05(17)"
      ]
     },
     "execution_count": 3,
     "metadata": {},
     "output_type": "execute_result"
    }
   ],
   "source": [
    "yobs"
   ]
  },
  {
   "cell_type": "markdown",
   "metadata": {},
   "source": [
    "We slice our test observable in various ways. We select rows, columns and specific sub-matrices"
   ]
  },
  {
   "cell_type": "code",
   "execution_count": 4,
   "metadata": {},
   "outputs": [
    {
     "name": "stdout",
     "output_type": "stream",
     "text": [
      "first row:  0.491(13)\t1.163(48)\n",
      "\n",
      "second column:  1.163(48)\t58.8(1.2)\t5.05(17)\n",
      "\n"
     ]
    }
   ],
   "source": [
    "print('first row: ', yobs[0,:])\n",
    "print('second column: ', yobs[:,1])"
   ]
  },
  {
   "cell_type": "code",
   "execution_count": 5,
   "metadata": {},
   "outputs": [
    {
     "name": "stdout",
     "output_type": "stream",
     "text": [
      "upper 2x2 matrix \n",
      " 0.491(13)\t1.163(48)\n",
      "-3.387(73)\t58.8(1.2)\n",
      "\n",
      "lower 2x2 matrix \n",
      " -3.387(73)\t58.8(1.2)\n",
      "-10.05(30)\t5.05(17)\n",
      "\n",
      "third 2x2 matrix \n",
      " 0.491(13)\t1.163(48)\n",
      "-10.05(30)\t5.05(17)\n",
      "\n"
     ]
    }
   ],
   "source": [
    "idx = numpy.array([0,1])\n",
    "print('upper 2x2 matrix \\n',yobs[idx,:])\n",
    "\n",
    "idx = numpy.array([1,2])\n",
    "print('lower 2x2 matrix \\n',yobs[idx,:])\n",
    "\n",
    "idx = numpy.array([0,2])\n",
    "print('third 2x2 matrix \\n',yobs[idx,:])"
   ]
  },
  {
   "cell_type": "markdown",
   "metadata": {},
   "source": [
    "Observables can also be reshaped and transposed, like normal `numpy` arrays"
   ]
  },
  {
   "cell_type": "code",
   "execution_count": 6,
   "metadata": {},
   "outputs": [
    {
     "name": "stdout",
     "output_type": "stream",
     "text": [
      "transpose \n",
      " 0.491(13)\t-3.387(73)\t-10.05(30)\n",
      "1.163(48)\t58.8(1.2)\t5.05(17)\n",
      "\n",
      "reshape \n",
      " 0.491(13)\t1.163(48)\t-3.387(73)\t58.8(1.2)\t-10.05(30)\t5.05(17)\n",
      "\n"
     ]
    }
   ],
   "source": [
    "print('transpose \\n',pyobs.transpose(yobs))\n",
    "print('reshape \\n',pyobs.reshape(yobs,(6,)))"
   ]
  },
  {
   "cell_type": "code",
   "execution_count": 7,
   "metadata": {},
   "outputs": [
    {
     "name": "stdout",
     "output_type": "stream",
     "text": [
      "diag of upper 2x2 matrix \n",
      " 0.491(13)\t58.8(1.2)\n",
      "\n"
     ]
    }
   ],
   "source": [
    "print('diag of upper 2x2 matrix \\n',pyobs.diag(yobs[numpy.array([0,1]),:]))"
   ]
  }
 ],
 "metadata": {
  "kernelspec": {
   "display_name": "Python 3",
   "language": "python",
   "name": "python3"
  },
  "language_info": {
   "codemirror_mode": {
    "name": "ipython",
    "version": 3
   },
   "file_extension": ".py",
   "mimetype": "text/x-python",
   "name": "python",
   "nbconvert_exporter": "python",
   "pygments_lexer": "ipython3",
   "version": "3.7.7"
  }
 },
 "nbformat": 4,
 "nbformat_minor": 4
}
