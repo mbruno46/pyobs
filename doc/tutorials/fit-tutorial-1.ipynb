{
 "cells": [
  {
   "cell_type": "markdown",
   "metadata": {},
   "source": [
    "# Getting started"
   ]
  },
  {
   "cell_type": "code",
   "execution_count": 1,
   "metadata": {},
   "outputs": [],
   "source": [
    "import pyobs\n",
    "import numpy\n",
    "\n",
    "pyobs.set_verbose('mfit') # prints additional information\n",
    "pyobs.set_verbose('diff') # prints additional information\n",
    "\n",
    "import matplotlib.pyplot as plt\n",
    "%matplotlib widget"
   ]
  },
  {
   "cell_type": "markdown",
   "metadata": {},
   "source": [
    "We create synthetic data from a model distribution that we try to fit using pyobs.\n",
    "\n",
    "The model function is a simple polynomial $f = p_0 + p_1 x$"
   ]
  },
  {
   "cell_type": "code",
   "execution_count": 2,
   "metadata": {},
   "outputs": [],
   "source": [
    "# true parameters\n",
    "P1 = [2.3, 4.5]"
   ]
  },
  {
   "cell_type": "markdown",
   "metadata": {},
   "source": [
    "The utility function `diff` provides automatically first and second derivatives, and is based on symbolic differentiation"
   ]
  },
  {
   "cell_type": "code",
   "execution_count": 3,
   "metadata": {},
   "outputs": [
    {
     "data": {
      "image/png": "[encoded data removed]",
      "text/latex": [
       "$\\displaystyle p_{0} + p_{1} x$"
      ],
      "text/plain": [
       "p₀ + p₁⋅x"
      ]
     },
     "metadata": {},
     "output_type": "display_data"
    },
    {
     "data": {
      "image/png": "[encoded data removed]",
      "text/latex": [
       "$\\displaystyle \\left[ 1, \\  x\\right]$"
      ],
      "text/plain": [
       "[1, x]"
      ]
     },
     "metadata": {},
     "output_type": "display_data"
    },
    {
     "data": {
      "image/png": "[encoded data removed]",
      "text/latex": [
       "$\\displaystyle \\left[ \\left[ 0, \\  0\\right], \\  \\left[ 0, \\  0\\right]\\right]$"
      ],
      "text/plain": [
       "[[0, 0], [0, 0]]"
      ]
     },
     "metadata": {},
     "output_type": "display_data"
    }
   ],
   "source": [
    "xax1=[1,2,3,4,5,6,7,8]\n",
    "[f1, df1, _] = pyobs.symbolic.diff('p0 + p1*x','x','p0,p1')"
   ]
  },
  {
   "cell_type": "markdown",
   "metadata": {},
   "source": [
    "Now let's generate synthetic autocorrelated data without correlations, ie all points are uncorrelated: we do so by passing a `cov` matrix which is simply a vector. The function `acrandn` interprets it as a diagonal covariance matrix."
   ]
  },
  {
   "cell_type": "code",
   "execution_count": 4,
   "metadata": {},
   "outputs": [
    {
     "name": "stdout",
     "output_type": "stream",
     "text": [
      "Random generator initialized with seed = 2874984293 [fits]\n"
     ]
    }
   ],
   "source": [
    "# generate autocorrelated data\n",
    "N=500 # number of configs\n",
    "\n",
    "# central values\n",
    "mu=[f1(x,P1[0],P1[1]) for x in xax1]\n",
    "\n",
    "# diagonal cov matrix\n",
    "cov=[(mu[i]*0.2)**2 for i in range(len(mu))]\n",
    "\n",
    "# autocorrelation time\n",
    "tau=4.0\n",
    "\n",
    "rng = pyobs.random.generator('fits')\n",
    "data = rng.acrandn(mu,cov,tau,N)\n",
    "data = numpy.reshape(data,numpy.size(data),)"
   ]
  },
  {
   "cell_type": "code",
   "execution_count": 5,
   "metadata": {},
   "outputs": [
    {
     "name": "stdout",
     "output_type": "stream",
     "text": [
      "6.85(14)\t11.35(27)\t15.65(42)\t19.79(49)\t24.77(60)\t28.37(55)\t34.41(75)\t37.53(92)\n",
      "\n"
     ]
    }
   ],
   "source": [
    "yobs1 = pyobs.observable(description='test-data')\n",
    "yobs1.create('A',data,shape=(len(mu),))\n",
    "print(yobs1)"
   ]
  },
  {
   "cell_type": "code",
   "execution_count": 6,
   "metadata": {},
   "outputs": [
    {
     "data": {
      "application/vnd.jupyter.widget-view+json": {
       "model_id": "a3a5c925e53f44a68083e7431abe124e",
       "version_major": 2,
       "version_minor": 0
      },
      "text/plain": [
       "Canvas(toolbar=Toolbar(toolitems=[('Home', 'Reset original view', 'home', 'home'), ('Back', 'Back to previous …"
      ]
     },
     "metadata": {},
     "output_type": "display_data"
    },
    {
     "data": {
      "text/plain": [
       "<ErrorbarContainer object of 3 artists>"
      ]
     },
     "execution_count": 6,
     "metadata": {},
     "output_type": "execute_result"
    }
   ],
   "source": [
    "plt.figure()\n",
    "[y,dy] = yobs1.error()\n",
    "plt.errorbar(xax1,y,dy,fmt='.')"
   ]
  },
  {
   "cell_type": "markdown",
   "metadata": {},
   "source": [
    "Now we create one instance of the `mfit` class. We need the kinematic coordinates `xax1`, the function and its derivatives obtained from `diff`, and the metric of the $\\chi^2$, the matrix $W$, which is taken to be the inverse covariance matrix for a proper statistical interpretation of the $\\chi^2$. In this case, since we have uncorrelated data points, we only needs their errors."
   ]
  },
  {
   "cell_type": "code",
   "execution_count": 7,
   "metadata": {},
   "outputs": [],
   "source": [
    "[y,dy] = yobs1.error()\n",
    "W=1./dy**2\n",
    "fit1 = pyobs.mfit(xax1,W,f1,df1)"
   ]
  },
  {
   "cell_type": "markdown",
   "metadata": {},
   "source": [
    "The minimization of the $\\chi^2$ is performed by simply calling the `mfit` class with the corresponding observable as argument. The output is new observable with the fit parameters."
   ]
  },
  {
   "cell_type": "code",
   "execution_count": 8,
   "metadata": {},
   "outputs": [
    {
     "name": "stdout",
     "output_type": "stream",
     "text": [
      "chisquare = 3.7903256782960137\n",
      "minimizer iterations = 3\n",
      "minimizer status: Levenberg-Marquardt: reached  1.0e-08 per-cent tolerance on x0\n",
      "mfit executed in 0.00345397 secs\n",
      "fit1 =  2.43(17)\t4.415(71)\n",
      "\n",
      "Ratio with true parameters: 1.059(72)\t0.981(16)\n",
      "\n"
     ]
    }
   ],
   "source": [
    "pars = fit1(yobs1)\n",
    "print('fit1 = ', pars)\n",
    "print('Ratio with true parameters:',pars/numpy.array(P1))"
   ]
  },
  {
   "cell_type": "markdown",
   "metadata": {},
   "source": [
    "Using the fit parameters we can evaluate the fit function at arbitrary coordinates and check its compatibility with\n",
    "the original data points, or extrapolate values from it."
   ]
  },
  {
   "cell_type": "code",
   "execution_count": 9,
   "metadata": {},
   "outputs": [
    {
     "data": {
      "application/vnd.jupyter.widget-view+json": {
       "model_id": "ca25753506df4be198687ca9adcb6f9b",
       "version_major": 2,
       "version_minor": 0
      },
      "text/plain": [
       "Canvas(toolbar=Toolbar(toolitems=[('Home', 'Reset original view', 'home', 'home'), ('Back', 'Back to previous …"
      ]
     },
     "metadata": {},
     "output_type": "display_data"
    },
    {
     "name": "stdout",
     "output_type": "stream",
     "text": [
      "extrapolated value at 1.0 =  6.85(12)\n",
      "\n"
     ]
    }
   ],
   "source": [
    "plt.figure()\n",
    "[y,dy] = yobs1.error()\n",
    "plt.errorbar(xax1,y,dy,fmt='.',color='C0')\n",
    "\n",
    "xax=numpy.arange(0,9,0.2)\n",
    "yeval = fit1.eval(xax,pars)\n",
    "[y,dy] = yeval.error()\n",
    "plt.fill_between(xax,y+dy,y-dy,lw=0.1,alpha=0.5,color='C1')\n",
    "\n",
    "[yzero] = fit1.eval(numpy.array([1.0]), pars)\n",
    "print('extrapolated value at 1.0 = ', yzero)"
   ]
  }
 ],
 "metadata": {
  "kernelspec": {
   "display_name": "Python 3",
   "language": "python",
   "name": "python3"
  },
  "language_info": {
   "codemirror_mode": {
    "name": "ipython",
    "version": 3
   },
   "file_extension": ".py",
   "mimetype": "text/x-python",
   "name": "python",
   "nbconvert_exporter": "python",
   "pygments_lexer": "ipython3",
   "version": "3.7.7"
  }
 },
 "nbformat": 4,
 "nbformat_minor": 4
}
