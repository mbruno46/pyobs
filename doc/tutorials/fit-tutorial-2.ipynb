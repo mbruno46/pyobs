{
 "cells": [
  {
   "cell_type": "markdown",
   "metadata": {},
   "source": [
    "# More interesting fits"
   ]
  },
  {
   "cell_type": "code",
   "execution_count": 1,
   "metadata": {},
   "outputs": [],
   "source": [
    "import pyobs\n",
    "import numpy\n",
    "\n",
    "pyobs.set_verbose('mfit') # prints additional information\n",
    "\n",
    "import matplotlib.pyplot as plt\n",
    "%matplotlib widget"
   ]
  },
  {
   "cell_type": "markdown",
   "metadata": {},
   "source": [
    "We create synthetic data for a free-field scalar correlation function in $D=1+1$ with $T=16$"
   ]
  },
  {
   "cell_type": "code",
   "execution_count": 2,
   "metadata": {},
   "outputs": [],
   "source": [
    "T=16\n",
    "L=16\n",
    "mass=0.25\n",
    "corr_ex = [pyobs.qft.free_scalar.Cphiphi(t,mass,0.0,T,L) for t in range(T//2+1)]\n",
    "cov_ex = pyobs.qft.free_scalar.cov_Cphiphi(mass,0.0,T,L)[0:T//2+1,0:T//2+1]"
   ]
  },
  {
   "cell_type": "code",
   "execution_count": 3,
   "metadata": {},
   "outputs": [
    {
     "data": {
      "text/plain": [
       "array([2.35814989, 2.3103782 , 2.204215  , 2.0748116 , 1.94580408,\n",
       "       1.83277329, 1.74569634, 1.69063532, 1.67083519])"
      ]
     },
     "execution_count": 3,
     "metadata": {},
     "output_type": "execute_result"
    }
   ],
   "source": [
    "cov_ex[0,:]"
   ]
  },
  {
   "cell_type": "code",
   "execution_count": 4,
   "metadata": {},
   "outputs": [
    {
     "name": "stdout",
     "output_type": "stream",
     "text": [
      "Random generator initialized with seed = 649309182 [tutorial]\n"
     ]
    },
    {
     "data": {
      "application/vnd.jupyter.widget-view+json": {
       "model_id": "be0e4891bbc74f419a29bf5668a581a0",
       "version_major": 2,
       "version_minor": 0
      },
      "text/plain": [
       "Canvas(toolbar=Toolbar(toolitems=[('Home', 'Reset original view', 'home', 'home'), ('Back', 'Back to previous …"
      ]
     },
     "metadata": {},
     "output_type": "display_data"
    }
   ],
   "source": [
    "tau=4.0\n",
    "N=6000\n",
    "\n",
    "rng = pyobs.random.generator('tutorial')\n",
    "data = rng.acrandn(corr_ex,cov_ex,tau,N)\n",
    "data = numpy.reshape(data, (numpy.size(data),))\n",
    "\n",
    "corr=pyobs.observable()\n",
    "corr.create('obsA',data,shape=(T//2+1,))\n",
    "\n",
    "plt.figure()\n",
    "[y,dy] = corr.error()\n",
    "xax=numpy.arange(T//2+1)\n",
    "plt.errorbar(xax,y,dy,fmt='.')\n",
    "plt.yscale('log')"
   ]
  },
  {
   "cell_type": "markdown",
   "metadata": {},
   "source": [
    "From the same sub-package, `pyobs.qft.free_scalar` we obtain the explicit analytic expression for the function used before, which we pass to `diff` to compute automatically the gradient with respect to the mass, our fitting parameter."
   ]
  },
  {
   "cell_type": "code",
   "execution_count": 5,
   "metadata": {},
   "outputs": [
    {
     "name": "stdout",
     "output_type": "stream",
     "text": [
      "(exp(-acosh(0.5*m**2 + 2*sin(0.0)**2+1)*abs(t)) + exp(-acosh(0.5*m**2 + 2*sin(0.0)**2+1)*abs(16-t)) + exp(-acosh(0.5*m**2 + 2*sin(0.0)**2+1)*abs(16+t)))/(2*sinh(acosh(0.5*m**2 + 2*sin(0.0)**2+1)))\n"
     ]
    }
   ],
   "source": [
    "fit_func = pyobs.qft.free_scalar.Cphiphi_string('t','m',0,T,L=16)\n",
    "print(fit_func)\n",
    "\n",
    "[f1, df1, _] = pyobs.symbolic.diff(fit_func,'t','m')"
   ]
  },
  {
   "cell_type": "markdown",
   "metadata": {},
   "source": [
    "Now we create one instance of the `mfit` class. For the metric of the $\\chi^2$ we use only the diagonal part of the covariance matrix, thus defining an uncorrelated fit."
   ]
  },
  {
   "cell_type": "code",
   "execution_count": 6,
   "metadata": {},
   "outputs": [
    {
     "name": "stdout",
     "output_type": "stream",
     "text": [
      "chisquare = 0.8212198451722108\n",
      "minimizer iterations = 14\n",
      "minimizer status: Levenberg-Marquardt: converged 1.0e-06 per-cent tolerance on fun\n",
      "mfit executed in 0.0245361 secs\n",
      "fit1 =  -0.2532(66)\n",
      "\n",
      "Ratio with true parameters: -1.013(26)\n",
      "\n"
     ]
    }
   ],
   "source": [
    "W=1./dy**2\n",
    "fit1 = pyobs.mfit(xax,W,f1,df1,v='t')\n",
    "\n",
    "pars = fit1(corr)\n",
    "print('fit1 = ', pars)\n",
    "print('Ratio with true parameters:',pars/numpy.array(mass))"
   ]
  },
  {
   "cell_type": "code",
   "execution_count": 7,
   "metadata": {},
   "outputs": [
    {
     "data": {
      "application/vnd.jupyter.widget-view+json": {
       "model_id": "726eef181f3b4712abba641cb8477973",
       "version_major": 2,
       "version_minor": 0
      },
      "text/plain": [
       "Canvas(toolbar=Toolbar(toolitems=[('Home', 'Reset original view', 'home', 'home'), ('Back', 'Back to previous …"
      ]
     },
     "metadata": {},
     "output_type": "display_data"
    }
   ],
   "source": [
    "plt.figure()\n",
    "[y,dy] = corr.error()\n",
    "plt.errorbar(xax,y,dy,fmt='.',color='C0')\n",
    "\n",
    "xax1=numpy.arange(0,9,0.2)\n",
    "yeval = fit1.eval(xax1,pars)\n",
    "[y,dy] = yeval.error()\n",
    "plt.fill_between(xax1,y+dy,y-dy,lw=0.1,alpha=0.5,color='C1')\n",
    "\n",
    "plt.yscale('log')"
   ]
  },
  {
   "cell_type": "markdown",
   "metadata": {},
   "source": [
    "## Combined fits"
   ]
  },
  {
   "cell_type": "markdown",
   "metadata": {},
   "source": [
    "Below we generate a second fake ensemble with the same parameters as before and then attempt a combined fit."
   ]
  },
  {
   "cell_type": "code",
   "execution_count": 8,
   "metadata": {},
   "outputs": [],
   "source": [
    "tau=5.6\n",
    "N=8000\n",
    "\n",
    "data = rng.acrandn(corr_ex,cov_ex,tau,N)\n",
    "data = numpy.reshape(data, (numpy.size(data),))\n",
    "\n",
    "corrB=pyobs.observable()\n",
    "corrB.create('obsB',data,shape=(T//2+1,))"
   ]
  },
  {
   "cell_type": "code",
   "execution_count": 9,
   "metadata": {},
   "outputs": [
    {
     "name": "stdout",
     "output_type": "stream",
     "text": [
      "chisquare = 2.07788976642026\n",
      "minimizer iterations = 15\n",
      "minimizer status: Levenberg-Marquardt: converged 1.0e-06 per-cent tolerance on fun\n",
      "mfit executed in 0.0241692 secs\n",
      "fit1 =  -0.2563(72)\n",
      "\n",
      "Ratio with true parameters: -1.025(29)\n",
      "\n"
     ]
    }
   ],
   "source": [
    "[_,dy] = corrB.error()\n",
    "W=1./dy**2\n",
    "fit2 = pyobs.mfit(xax,W,f1,df1,v='t')\n",
    "\n",
    "pars = fit2(corrB)\n",
    "print('fit1 = ', pars)\n",
    "print('Ratio with true parameters:',pars/numpy.array(mass))"
   ]
  },
  {
   "cell_type": "markdown",
   "metadata": {},
   "source": [
    "Below we perfom a combined fit. It is as simple as typing `fit1+fit2`. We can check the incresed precision on the fitted mass compared to the individual fits."
   ]
  },
  {
   "cell_type": "code",
   "execution_count": 10,
   "metadata": {},
   "outputs": [
    {
     "name": "stdout",
     "output_type": "stream",
     "text": [
      "chisquare = 3.7438736470772724\n",
      "minimizer iterations = 17\n",
      "minimizer status: Levenberg-Marquardt: converged 1.0e-06 per-cent tolerance on fun\n",
      "mfit executed in 0.0481539 secs\n",
      "fit1 =  0.2546(49)\n",
      "\n",
      "Ratio with true parameters: 1.019(19)\n",
      "\n"
     ]
    }
   ],
   "source": [
    "fit3 = fit1 + fit2\n",
    "\n",
    "pars = fit3([corr,corrB])\n",
    "print('fit1 = ', pars)\n",
    "print('Ratio with true parameters:',pars/numpy.array(mass))"
   ]
  }
 ],
 "metadata": {
  "kernelspec": {
   "display_name": "Python 3",
   "language": "python",
   "name": "python3"
  },
  "language_info": {
   "codemirror_mode": {
    "name": "ipython",
    "version": 3
   },
   "file_extension": ".py",
   "mimetype": "text/x-python",
   "name": "python",
   "nbconvert_exporter": "python",
   "pygments_lexer": "ipython3",
   "version": "3.7.7"
  }
 },
 "nbformat": 4,
 "nbformat_minor": 4
}
